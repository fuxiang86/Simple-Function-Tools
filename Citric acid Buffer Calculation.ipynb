{
 "cells": [
  {
   "cell_type": "code",
   "execution_count": 78,
   "metadata": {},
   "outputs": [],
   "source": [
    "# use Citric Acid and Na2HPO4 buffer to adjust pH\n",
    "# this code is used to calculate the usage of each compound when given a certain mol of buffer strength\n",
    "def buffer(mol):\n",
    "    a = 210.14 # MW of citric\n",
    "    b = 141.98 # MW of Na2HPO4\n",
    "    ca = 21.01 # density of 0.1M citric g/L\n",
    "    cb = 28.4 # density of 0.2M Na2HPO4 g/L\n",
    "    \n",
    "    x = 89.1 # a ratio in volume\n",
    "    y = 10.9 # b ratio in volumea\n",
    "    \n",
    "    m = 0 # lr of citric volume\n",
    "    i = 0\n",
    "    while i<1000:\n",
    "        i+=1\n",
    "        m+=0.001\n",
    "        n = m*y/x\n",
    "        if (m*ca/a + n*cb/b)-mol >= 0 and (m*ca/a + n*cb/b)-mol < 0.0001:\n",
    "            print(m,n,m*ca,n*cb)"
   ]
  },
  {
   "cell_type": "code",
   "execution_count": 79,
   "metadata": {},
   "outputs": [
    {
     "name": "stdout",
     "output_type": "stream",
     "text": [
      "0.8040000000000006 0.09835690235690245 16.892040000000012 2.7933360269360294\n"
     ]
    }
   ],
   "source": [
    "buffer(0.1)"
   ]
  },
  {
   "cell_type": "code",
   "execution_count": null,
   "metadata": {},
   "outputs": [],
   "source": []
  }
 ],
 "metadata": {
  "kernelspec": {
   "display_name": "Python 3",
   "language": "python",
   "name": "python3"
  },
  "language_info": {
   "codemirror_mode": {
    "name": "ipython",
    "version": 3
   },
   "file_extension": ".py",
   "mimetype": "text/x-python",
   "name": "python",
   "nbconvert_exporter": "python",
   "pygments_lexer": "ipython3",
   "version": "3.7.3"
  }
 },
 "nbformat": 4,
 "nbformat_minor": 2
}
