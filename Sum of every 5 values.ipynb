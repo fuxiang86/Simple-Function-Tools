{
 "cells": [
  {
   "cell_type": "code",
   "execution_count": 2,
   "metadata": {},
   "outputs": [],
   "source": [
    "def sum_5(range_1, range_2):\n",
    "    l = []\n",
    "    for i in range(range_1,range_2):\n",
    "        l.append(i)\n",
    "    n = len(l)//5\n",
    "    m = len(l)%5\n",
    "    mean = []\n",
    "    b = 0\n",
    "    c = 0\n",
    "    for j in range(1,n+1):\n",
    "        index = j*5\n",
    "        for x in range(b,index):\n",
    "            c += l[x]\n",
    "        mean.append(c)\n",
    "        c = 0\n",
    "        b = index\n",
    "    if m != 0:\n",
    "        a = n*5\n",
    "        for k in range(a,a+m):\n",
    "            c += l[k]\n",
    "        mean.append(c)\n",
    "        c = 0\n",
    "    return mean\n",
    "    \n"
   ]
  },
  {
   "cell_type": "code",
   "execution_count": 3,
   "metadata": {},
   "outputs": [
    {
     "data": {
      "text/plain": [
       "[15,\n",
       " 40,\n",
       " 65,\n",
       " 90,\n",
       " 115,\n",
       " 140,\n",
       " 165,\n",
       " 190,\n",
       " 215,\n",
       " 240,\n",
       " 265,\n",
       " 290,\n",
       " 315,\n",
       " 340,\n",
       " 365,\n",
       " 390,\n",
       " 415,\n",
       " 440,\n",
       " 465,\n",
       " 490,\n",
       " 515]"
      ]
     },
     "execution_count": 3,
     "metadata": {},
     "output_type": "execute_result"
    }
   ],
   "source": [
    "sum_5(1,106)"
   ]
  },
  {
   "cell_type": "code",
   "execution_count": null,
   "metadata": {},
   "outputs": [],
   "source": []
  }
 ],
 "metadata": {
  "kernelspec": {
   "display_name": "Python 3",
   "language": "python",
   "name": "python3"
  },
  "language_info": {
   "codemirror_mode": {
    "name": "ipython",
    "version": 3
   },
   "file_extension": ".py",
   "mimetype": "text/x-python",
   "name": "python",
   "nbconvert_exporter": "python",
   "pygments_lexer": "ipython3",
   "version": "3.7.3"
  }
 },
 "nbformat": 4,
 "nbformat_minor": 2
}
