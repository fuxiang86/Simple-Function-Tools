{
 "cells": [
  {
   "cell_type": "markdown",
   "metadata": {},
   "source": [
    "## How to solve a^2 + a^3 = 392 by cost function?"
   ]
  },
  {
   "cell_type": "markdown",
   "metadata": {},
   "source": [
    "* assume the y = f(x) = theta^2 + theta^3 - 392\n",
    "* while t = 0, cost(x,t) = (t-y)^2 = y^2 = f(x)^2\n",
    "* grad(cost(x,t)) = 2 * f(x) * grad(f(x)) = 2 * f(x)*(2 * theta + 3 * theta^2)\n",
    "* theta(n) = theta(n-1) - learning rate * 2 * fn-1(x) * (2 * theta(n-1) + 3 * theta(n-1)^2)"
   ]
  },
  {
   "cell_type": "code",
   "execution_count": 15,
   "metadata": {},
   "outputs": [
    {
     "name": "stdout",
     "output_type": "stream",
     "text": [
      "initial value : 0.8058571494440805\n",
      "initial learning rate: 3e-05\n",
      "iteration 1: 0.9807062178816265\n",
      "iteration 2: 1.229215635088834\n",
      "iteration 3: 1.6036351930513966\n",
      "iteration 4: 2.212849558338123\n",
      "iteration 5: 3.3076986793452003\n",
      "iteration 6: 5.48210210578597\n",
      "iteration 7: 8.81200141673078\n",
      "iteration 8: -7.090355602292746\n",
      "new learning rate:  1.5e-05\n",
      "iteration 9: 2.089560748471028\n",
      "new learning rate:  7.5e-06\n",
      "iteration 10: 2.336399518529771\n",
      "iteration 11: 2.638055266144595\n",
      "iteration 12: 3.0115761491418995\n",
      "iteration 13: 3.4791203088256073\n",
      "iteration 14: 4.0663403936148\n",
      "iteration 15: 4.791979271507468\n",
      "iteration 16: 5.632111344996588\n",
      "iteration 17: 6.440570205190652\n",
      "iteration 18: 6.923475848472506\n",
      "iteration 19: 7.0049045987148935\n",
      "iteration 20: 6.999504246895627\n",
      "iteration 21: 7.000048879933854\n",
      "iteration 22: 6.999995168343219\n",
      "Solution:  6.999995168343219\n"
     ]
    }
   ],
   "source": [
    "import random\n",
    "\n",
    "def f(a):\n",
    "    return a**2 + a**3 - 392\n",
    "\n",
    "def cost(a):\n",
    "    return f(a)**2\n",
    "\n",
    "def grad(a):\n",
    "    return 2*f(a)*((3*a)**2 + 2*a)\n",
    "\n",
    "def solve(eps, lr, max_iterations = 1000, patience = 1, decay = 0.5):\n",
    "    a = random.random()\n",
    "    i = 1\n",
    "    print('initial value :', a)\n",
    "    print('initial learning rate:', lr)\n",
    "    curr_cost = cost(a)\n",
    "    d_cost = abs(curr_cost)\n",
    "    prev_costs = []\n",
    "    while d_cost > eps and max_iterations > 0:\n",
    "        a -= grad(a) * lr\n",
    "        print('iteration {}: {}'.format(i,a))\n",
    "        max_iterations -= 1\n",
    "        \n",
    "        if len(prev_costs) > 0 and curr_cost < prev_costs[-1]:\n",
    "            prev_costs.clear()\n",
    "        elif len(prev_costs) == patience and curr_cost > prev_costs[-1]:\n",
    "            lr *= decay\n",
    "            print('new learning rate: ',lr)\n",
    "            prev_costs.clear()\n",
    "            \n",
    "        prev_cost, curr_cost = curr_cost, cost(a)\n",
    "        d_cost = abs(curr_cost - prev_cost)\n",
    "        prev_costs.insert(0, prev_cost)\n",
    "        i += 1\n",
    "    return a if max_iterations > 0 else None\n",
    "\n",
    "eps = 0.0001\n",
    "lr = 0.00003\n",
    "print('Solution: ', solve(eps,lr))"
   ]
  },
  {
   "cell_type": "code",
   "execution_count": null,
   "metadata": {},
   "outputs": [],
   "source": []
  }
 ],
 "metadata": {
  "kernelspec": {
   "display_name": "Python 3",
   "language": "python",
   "name": "python3"
  },
  "language_info": {
   "codemirror_mode": {
    "name": "ipython",
    "version": 3
   },
   "file_extension": ".py",
   "mimetype": "text/x-python",
   "name": "python",
   "nbconvert_exporter": "python",
   "pygments_lexer": "ipython3",
   "version": "3.7.6"
  }
 },
 "nbformat": 4,
 "nbformat_minor": 4
}
